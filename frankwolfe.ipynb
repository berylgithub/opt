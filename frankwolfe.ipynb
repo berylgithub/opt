{
 "cells": [
  {
   "cell_type": "code",
   "execution_count": 16,
   "metadata": {},
   "outputs": [],
   "source": [
    "import numpy as np\n",
    "from scipy import sparse\n",
    "import pylab as plt\n",
    "from sklearn import datasets\n",
    "from scipy.optimize import linprog"
   ]
  },
  {
   "cell_type": "code",
   "execution_count": 3,
   "metadata": {},
   "outputs": [
    {
     "data": {
      "image/png": "[encoded data removed]",
      "text/plain": [
       "<Figure size 432x288 with 1 Axes>"
      ]
     },
     "metadata": {
      "needs_background": "light"
     },
     "output_type": "display_data"
    },
    {
     "name": "stdout",
     "output_type": "stream",
     "text": [
      "Sparsity of solution: 0.1%\n"
     ]
    }
   ],
   "source": [
    "'''from Fabian Pedregosa'''\n",
    "def FW(alpha, max_iter=200, tol=1e-8):\n",
    "    # .. initial estimate, could be any feasible point ..\n",
    "    x_t = sparse.dok_matrix((n_features, 1))\n",
    "    trace = []  # to keep track of the gap\n",
    "\n",
    "    # .. some quantities can be precomputed ..\n",
    "    Atb = A.T.dot(b)\n",
    "    for it in range(max_iter):\n",
    "        # .. compute gradient. Slightly more involved than usual because ..\n",
    "        # .. of the use of sparse matrices ..\n",
    "        Ax = x_t.T.dot(A.T).ravel()\n",
    "        grad = (A.T.dot(Ax) - Atb)\n",
    "\n",
    "        # .. the LMO results in a vector that is zero everywhere except for ..\n",
    "        # .. a single index. Of this vector we only store its index and magnitude ..\n",
    "        idx_oracle = np.argmax(np.abs(grad))\n",
    "        mag_oracle = alpha * np.sign(-grad[idx_oracle])\n",
    "        g_t = x_t.T.dot(grad).ravel() - grad[idx_oracle] * mag_oracle\n",
    "        trace.append(g_t)\n",
    "        if g_t <= tol:\n",
    "            break\n",
    "        q_t = A[:, idx_oracle] * mag_oracle - Ax\n",
    "        step_size = min(q_t.dot(b - Ax) / q_t.dot(q_t), 1.)\n",
    "        x_t = (1. - step_size) * x_t\n",
    "        x_t[idx_oracle] = x_t[idx_oracle] + step_size * mag_oracle\n",
    "    return x_t, np.array(trace)\n",
    "\n",
    "n_samples, n_features = 1000, 10000\n",
    "A, b = datasets.make_regression(n_samples, n_features)\n",
    "# .. plot evolution of FW gap ..\n",
    "sol, trace = FW(.5 * n_features)\n",
    "plt.plot(trace)\n",
    "plt.yscale('log')\n",
    "plt.xlabel('Number of iterations')\n",
    "plt.ylabel('FW gap')\n",
    "plt.title('FW on a Lasso problem')\n",
    "plt.grid()\n",
    "plt.show()\n",
    "\n",
    "sparsity = np.mean(sol.toarray().ravel() != 0)\n",
    "print('Sparsity of solution: %s%%' % (sparsity * 100))"
   ]
  },
  {
   "cell_type": "code",
   "execution_count": 4,
   "metadata": {},
   "outputs": [],
   "source": [
    "'''frank wolfe functions'''\n",
    "def gradient(F, x):\n",
    "    return None\n",
    "\n",
    "def linear_program_oracle(F, x):\n",
    "    return None\n",
    "\n",
    "def frank_wolfe(F, x, max_iter=200, alpha=0.1, tol=1e-8):\n",
    "    for k in range(max_iter):\n",
    "        grad = gradient()\n",
    "        x_hat = linear_program_oracle()\n",
    "        x = x + alpa*(x_hat - x)\n",
    "    return x"
   ]
  },
  {
   "cell_type": "code",
   "execution_count": 17,
   "metadata": {},
   "outputs": [
    {
     "name": "stdout",
     "output_type": "stream",
     "text": [
      "     con: array([], dtype=float64)\n",
      "     fun: -22.0\n",
      " message: 'Optimization terminated successfully.'\n",
      "     nit: 5\n",
      "   slack: array([3.90000000e+01, 1.77635684e-15])\n",
      "  status: 0\n",
      " success: True\n",
      "       x: array([10., -3.])\n"
     ]
    }
   ],
   "source": [
    "'''Linear Programming'''\n",
    "# f(x0,x1) = -x0 + 4x1\n",
    "c = [-1, 4]\n",
    "A = [[-3, 1], [1, 2]]\n",
    "b = [6, 4]\n",
    "x0_bounds = (None, None)\n",
    "x1_bounds = (-3, None)\n",
    "res = linprog(c, A_ub=A, b_ub=b, bounds=[x0_bounds, x1_bounds])\n",
    "print(res)"
   ]
  },
  {
   "cell_type": "code",
   "execution_count": 100,
   "metadata": {},
   "outputs": [
    {
     "name": "stdout",
     "output_type": "stream",
     "text": [
      "KWSA [2.00000017 4.00000033]\n",
      "RDSA [ 0.3296272  -0.05099195]\n",
      "IRDSA [1.29353959 4.13706488]\n"
     ]
    }
   ],
   "source": [
    "#gradient test\n",
    "f = lambda x: x[0]**2 + x[1]**2\n",
    "c = 1e-10\n",
    "x = np.array([1,2])\n",
    "\n",
    "\n",
    "def grad_KWSA(F, x, c, d):\n",
    "    grad = 0\n",
    "    e = np.zeros(d)\n",
    "    for i in range(d):\n",
    "        e[i] = 1 #cb-vector\n",
    "        grad += ((F(x + c*e) - F(x))/c)*e #calculate the gradient\n",
    "        e[i] = 0 #reset cb-vector\n",
    "    return grad\n",
    "\n",
    "def grad_RDSA(F, x, c, d):\n",
    "    z = np.random.normal(0, 1, size=(d)) #mean = 0, std = 1\n",
    "    grad = ((F(x + c*z) - F(x))/c)*z\n",
    "    return grad\n",
    "\n",
    "def grad_IRDSA(F, x, c, d, m=5):\n",
    "    grad = 0\n",
    "    for i in range(m):\n",
    "        z = np.random.normal(0, 1, size=(d)) #mean = 0, std = 1\n",
    "        grad += ((F(x + c*z) - F(x))/c)*z\n",
    "    return grad/m\n",
    "\n",
    "print(\"KWSA\", grad_KWSA(f, x, c, len(x)))\n",
    "print(\"RDSA\", grad_RDSA(f, x, c, len(x)))\n",
    "print(\"IRDSA\", grad_IRDSA(f, x, c, len(x)))"
   ]
  },
  {
   "cell_type": "code",
   "execution_count": 92,
   "metadata": {},
   "outputs": [],
   "source": [
    "'''Zeroth Order Frank Wolfe [Sahu et al]'''\n",
    "'''Stochastic Gradient Free Frank Wolfe - Convex'''\n",
    "def SGF_frank_wolfe_cvx(F, x, max_iter=200, mode=\"KWSA\"):\n",
    "    dim = len(x)\n",
    "    t = np.arange(max_iter) # sequence of t = 0,1,....max_iter\n",
    "    gamma = 2/(t + 8) # initialize gamma sequences\n",
    "    # rho and c sequences:\n",
    "    rho = c = None\n",
    "    if mode == \"KWSA\":\n",
    "        rho = 4/((t+8)**(2/3))\n",
    "        c = 2/((d**(1/2)) * ((t + 8)**(1/3)))\n",
    "    elif mode == \"IRDSA\":\n",
    "        rho = 4/(((1 + (d/m))**(1/3)) * ((t+8)**(2/3)))\n",
    "        c = 2*np.sqrt(m)/(d**(3/2) * (t+8)**(1/3))\n",
    "    elif mode == \"RDSA\":\n",
    "        rho = 4/(d**(1/3) * (t+8)**(2/3))\n",
    "        c = 2/(d**(3/2) * (t+8)**(1/3))\n",
    "    d = 0 #initial value d_0 = 0\n",
    "    for i in t: #loop\n",
    "        grad = 0\n",
    "        if mode == \"KWSA\":\n",
    "            grad = grad_KWSA(F, x, c[i], dim)\n",
    "        elif mode == \"IRDSA\":\n",
    "            grad = grad_IRDSA(F, x, c[i], dim)\n",
    "        elif mode == \"RDSA\":\n",
    "            grad = grad_RDSA(F, x, c[i], dim)\n",
    "        d = (1-rho[i])*d + rho[i]*grad #used for linear programming oracle (LPO)\n",
    "        \n",
    "        v = linear_program_oracle(d) ### LPO\n",
    "        \n",
    "        x = (1-gamma[i])*x + gamma[i]*v\n",
    "    return x"
   ]
  },
  {
   "cell_type": "code",
   "execution_count": 94,
   "metadata": {},
   "outputs": [
    {
     "data": {
      "text/plain": [
       "array([0.25      , 0.22222222, 0.2       , 0.18181818, 0.16666667,\n",
       "       0.15384615, 0.14285714, 0.13333333, 0.125     , 0.11764706])"
      ]
     },
     "execution_count": 94,
     "metadata": {},
     "output_type": "execute_result"
    }
   ],
   "source": [
    "2/(np.arange(10)+8)"
   ]
  },
  {
   "cell_type": "code",
   "execution_count": 106,
   "metadata": {},
   "outputs": [
    {
     "data": {
      "text/plain": [
       "28"
      ]
     },
     "execution_count": 106,
     "metadata": {},
     "output_type": "execute_result"
    }
   ],
   "source": [
    "np.dot([1,2,3],[2,4,6])"
   ]
  },
  {
   "cell_type": "code",
   "execution_count": null,
   "metadata": {},
   "outputs": [],
   "source": []
  }
 ],
 "metadata": {
  "kernelspec": {
   "display_name": "Python 3",
   "language": "python",
   "name": "python3"
  },
  "language_info": {
   "codemirror_mode": {
    "name": "ipython",
    "version": 3
   },
   "file_extension": ".py",
   "mimetype": "text/x-python",
   "name": "python",
   "nbconvert_exporter": "python",
   "pygments_lexer": "ipython3",
   "version": "3.7.3"
  }
 },
 "nbformat": 4,
 "nbformat_minor": 2
}
