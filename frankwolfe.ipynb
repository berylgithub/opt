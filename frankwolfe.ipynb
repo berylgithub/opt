{
 "cells": [
  {
   "cell_type": "markdown",
   "metadata": {},
   "source": [
    "# Short Analysis of Zeroth-Order Frank-Wolfe Variants [Sahu et al] on Black Box settings"
   ]
  },
  {
   "cell_type": "markdown",
   "metadata": {},
   "source": [
    "## Introduction <br>\n",
    "This short essay presents the analysis and mainly the implementation of the Frank-Wolfe Algorithm variants devised by Sahu et al [1] for stochastic-black box optimization setting. The organization of the contents is as follows: <br>\n",
    "<li> Description of the Gradient approximations.\n",
    "<li> Description of the Algorithm variants.\n",
    "<li> Implementation of the Algorithms.\n",
    "<li> Testing/benchmarks."
   ]
  },
  {
   "cell_type": "markdown",
   "metadata": {},
   "source": [
    "### Gradient Approximations"
   ]
  },
  {
   "cell_type": "markdown",
   "metadata": {},
   "source": [
    "The main important ingredient of the zeroth-order method is the gradient approximation schemes. Three gradient approximation versions are proposed in [1]: Kiefer-Wolfowitz Stochastic Approximation (KWSA), Random Directions Gradient Estimator (RDSA), and Improved - Random Directions Gradient Estimator (I-RDSA)."
   ]
  },
  {
   "cell_type": "code",
   "execution_count": 1,
   "metadata": {},
   "outputs": [],
   "source": [
    "import numpy as np\n",
    "from scipy import sparse\n",
    "import pylab as plt\n",
    "from sklearn import datasets\n",
    "from scipy.optimize import linprog"
   ]
  },
  {
   "cell_type": "code",
   "execution_count": 20,
   "metadata": {},
   "outputs": [
    {
     "data": {
      "image/png": "[encoded data removed]",
      "text/plain": [
       "<Figure size 432x288 with 1 Axes>"
      ]
     },
     "metadata": {
      "needs_background": "light"
     },
     "output_type": "display_data"
    },
    {
     "name": "stdout",
     "output_type": "stream",
     "text": [
      "Sparsity of solution: 0.1%\n"
     ]
    }
   ],
   "source": [
    "'''from Fabian Pedregosa'''\n",
    "def FW(alpha, max_iter=200, tol=1e-8):\n",
    "    # .. initial estimate, could be any feasible point ..\n",
    "    x_t = sparse.dok_matrix((n_features, 1))\n",
    "    trace = []  # to keep track of the gap\n",
    "\n",
    "    # .. some quantities can be precomputed ..\n",
    "    Atb = A.T.dot(b)\n",
    "    for it in range(max_iter):\n",
    "        # .. compute gradient. Slightly more involved than usual because ..\n",
    "        # .. of the use of sparse matrices ..\n",
    "        Ax = x_t.T.dot(A.T).ravel()\n",
    "        grad = (A.T.dot(Ax) - Atb)\n",
    "        # .. the LMO results in a vector that is zero everywhere except for ..\n",
    "        # .. a single index. Of this vector we only store its index and magnitude ..\n",
    "        idx_oracle = np.argmax(np.abs(grad))\n",
    "        mag_oracle = alpha * np.sign(-grad[idx_oracle])\n",
    "        g_t = x_t.T.dot(grad).ravel() - grad[idx_oracle] * mag_oracle\n",
    "        trace.append(g_t)\n",
    "        if g_t <= tol:\n",
    "            break\n",
    "        q_t = A[:, idx_oracle] * mag_oracle - Ax\n",
    "        step_size = min(q_t.dot(b - Ax) / q_t.dot(q_t), 1.)\n",
    "        x_t = (1. - step_size) * x_t\n",
    "        x_t[idx_oracle] = x_t[idx_oracle] + step_size * mag_oracle\n",
    "    return x_t, np.array(trace)\n",
    "\n",
    "n_samples, n_features = 1000, 10000\n",
    "#n_samples, n_features = 100, 1000\n",
    "A, b = datasets.make_regression(n_samples, n_features)\n",
    "# .. plot evolution of FW gap ..\n",
    "sol, trace = FW(.5 * n_features)\n",
    "plt.plot(trace)\n",
    "plt.yscale('log')\n",
    "plt.xlabel('Number of iterations')\n",
    "plt.ylabel('FW gap')\n",
    "plt.title('FW on a Lasso problem')\n",
    "plt.grid()\n",
    "plt.show()\n",
    "\n",
    "sparsity = np.mean(sol.toarray().ravel() != 0)\n",
    "print('Sparsity of solution: %s%%' % (sparsity * 100))"
   ]
  },
  {
   "cell_type": "code",
   "execution_count": 71,
   "metadata": {},
   "outputs": [
    {
     "name": "stdout",
     "output_type": "stream",
     "text": [
      "     con: array([], dtype=float64)\n",
      "     fun: -11.428571428000076\n",
      " message: 'Optimization terminated successfully.'\n",
      "     nit: 4\n",
      "   slack: array([1.9874058e-10, 2.5518343e-10])\n",
      "  status: 0\n",
      " success: True\n",
      "       x: array([-1.14285714,  2.57142857])\n",
      "11.428571428000076\n"
     ]
    }
   ],
   "source": [
    "'''Linear Programming'''\n",
    "# f(x0,x1) = -x0 + 4x1\n",
    "f = lambda x: -x[0] + 4*x[1]\n",
    "c = np.array([-1, 4])\n",
    "A = [[-3, 1], [1, 2]]\n",
    "b = [6, 4]\n",
    "\n",
    "#A = np.array([[-3, 1]])\n",
    "#b = 6\n",
    "\n",
    "x0_bounds = (None, None)\n",
    "x1_bounds = (-3, None)\n",
    "res = linprog(-c, A_ub=A, b_ub=b, bounds=[x0_bounds, x1_bounds]) #there is also A_eq and b_eq which is Ax = b constraints\n",
    "print(res)\n",
    "print(f(res[\"x\"]))\n",
    "#print(linear_program_oracle(c, A, b, [(None, None), (-3, None)]))"
   ]
  },
  {
   "cell_type": "markdown",
   "metadata": {},
   "source": [
    "### Helper Functions"
   ]
  },
  {
   "cell_type": "code",
   "execution_count": 3,
   "metadata": {},
   "outputs": [
    {
     "name": "stdout",
     "output_type": "stream",
     "text": [
      "KWSA [-32.  -8.]\n",
      "RDSA [ 0.00561439 -0.27489941]\n",
      "IRDSA [-23.33818602   3.44828786]\n",
      "KWSA [0. 0.]\n",
      "RDSA [-0. -0.]\n",
      "IRDSA [0. 0.]\n"
     ]
    }
   ],
   "source": [
    "'''Helper functions, for gradients, oracles, etc'''\n",
    "def grad_KWSA(F, x, c, d, *f_args):\n",
    "    '''\n",
    "    f_args is the arguments of F(.), used if there are complicated functions which reqiures more parameter than just x \n",
    "    '''\n",
    "    grad = 0\n",
    "    e = np.zeros(d)\n",
    "    for i in range(d):\n",
    "        e[i] = 1 #cb-vector\n",
    "        grad += ((F(x + c*e, *f_args) - F(x, *f_args))/c)*e #calculate the gradient\n",
    "        e[i] = 0 #reset cb-vector\n",
    "    return grad\n",
    "\n",
    "def grad_RDSA(F, x, c, d, *f_args):\n",
    "    z = np.random.normal(0, 1, size=(d)) #mean = 0, std = 1\n",
    "    grad = ((F(x + c*z, *f_args) - F(x, *f_args))/c)*z\n",
    "    return grad\n",
    "\n",
    "def grad_IRDSA(F, x, c, d, m=5, *f_args):\n",
    "    grad = 0\n",
    "    for i in range(m):\n",
    "        z = np.random.normal(0, 1, size=(d)) #mean = 0, std = 1\n",
    "        grad += ((F(x + c*z, *f_args) - F(x, *f_args))/c)*z\n",
    "    return grad/m\n",
    "\n",
    "def linear_program_oracle(coef, A_ub, b_ub, bounds):\n",
    "    '''\n",
    "    f(x) = c^Tx\n",
    "    Ax <= b\n",
    "    x within bounds \n",
    "    coef = [c_x0, c_x1, ....] coefficient of the equation\n",
    "    A = [[a0_x0, a0_x1, ...],[a1_x0, a1_x1, ...]] ineq constraint matrix\n",
    "    b = [b0, b1, ....] ineq constraint vector\n",
    "    bounds = [(lb_x0, ub_x0), (lb_x1, ub_x1),....]\n",
    "    '''\n",
    "    res = linprog(coef, A_ub=A_ub, b_ub=b_ub, bounds=bounds)\n",
    "    return res[\"x\"] \n",
    "\n",
    "# gradient test:\n",
    "'''\n",
    "f = lambda x: x[0]**2 + x[1]**2\n",
    "c = 1e-10\n",
    "x = np.array([1,2])\n",
    "'''\n",
    "f = lambda x: x[0]**4 - 32*x[0] + x[1]**2 - 8*x[1]\n",
    "c = 1e-10\n",
    "x = np.array([0,0])\n",
    "print(\"KWSA\", grad_KWSA(f, x, c, len(x)))\n",
    "print(\"RDSA\", grad_RDSA(f, x, c, len(x)))\n",
    "print(\"IRDSA\", grad_IRDSA(f, x, c, len(x)))\n",
    "x = np.array([2,4]) #x = (2,4) is the global minimum, hence gradient = 0\n",
    "print(\"KWSA\", grad_KWSA(f, x, c, len(x)))\n",
    "print(\"RDSA\", grad_RDSA(f, x, c, len(x)))\n",
    "print(\"IRDSA\", grad_IRDSA(f, x, c, len(x)))\n",
    "\n"
   ]
  },
  {
   "cell_type": "markdown",
   "metadata": {},
   "source": [
    "### Franke Wolfe Algorithm and its variants from [Sahu et al] paper"
   ]
  },
  {
   "cell_type": "code",
   "execution_count": 29,
   "metadata": {},
   "outputs": [],
   "source": [
    "'''Standard frank wolfe algorfithm'''\n",
    "def frank_wolfe(F, x, LPO_var, alpha=0.1, max_iter=200, verbose=False, *f_args):\n",
    "    '''\n",
    "    F = f(x)\n",
    "    x = input vector or init starting point\n",
    "    LPO_var = {A, b, bounds}, the constraints and bounds\n",
    "    f_args is the arguments of F(.), used if there are complicated functions which reqiures more parameter than just x \n",
    "    '''\n",
    "    A = LPO_var[\"A\"]; b = LPO_var[\"b\"]; bounds = LPO_var[\"bounds\"]\n",
    "    dim = len(x)\n",
    "    x_out = np.copy(x) #so that the global input x wont be changed\n",
    "    if verbose:\n",
    "        x_array = np.zeros((max_iter, dim))\n",
    "    for i in range(max_iter):\n",
    "        grad = grad_KWSA(F, x_out, 1e-10, dim, *f_args)\n",
    "        v = linear_program_oracle(grad, A, b, bounds)\n",
    "        x_out += alpha*(v - x_out)\n",
    "        if verbose:\n",
    "            x_array[i] = x_out\n",
    "    if verbose:\n",
    "        return x_out, x_array\n",
    "    else:\n",
    "        return x_out\n",
    "\n",
    "def frank_wolfe_away(F, x, LPO_var, alpha=0.1, max_iter=200, *f_args):\n",
    "    '''\n",
    "    away version of Frank Wolfe Algorithm\n",
    "    F = f(x)\n",
    "    x = input vector or init starting point\n",
    "    LPO_var = {A, b, bounds}, the constraints and bounds\n",
    "    '''\n",
    "    A = LPO_var[\"A\"]; b = LPO_var[\"b\"]; bounds = LPO_var[\"bounds\"]\n",
    "    dim = len(x)\n",
    "    alpha_bar = 0 #placeholder\n",
    "    x_out = np.copy(x)\n",
    "    for i in range(max_iter):\n",
    "        grad = grad_KWSA(F, x_out, 1e-10, dim, *f_args)\n",
    "        v_FW = linear_program_oracle(grad, A, b, bounds)\n",
    "        v_AS = linear_program_oracle(-grad, A, b, bounds) #away step\n",
    "        d_FW = v_FW - x_out; d_AS = x_out - v_AS\n",
    "        grad_FW = np.dot(grad, d_FW); grad_AS = np.dot(grad, d_AS)\n",
    "        if grad_FW <= grad_AS:\n",
    "            d = d_FW\n",
    "            alpha_bar = 1\n",
    "        else:\n",
    "            d = d_AS\n",
    "            alpha_bar = 1 #temporary\n",
    "        x_out += alpha*d\n",
    "    return x_out\n",
    "    \n",
    "    \n",
    "'''Zeroth Order Frank Wolfe Algorithms [Sahu et al]'''\n",
    "'''Stochastic Gradient Free Frank Wolfe - Convex'''\n",
    "def SGF_frank_wolfe_cvx(F, x, LPO_var, max_iter=200, m=10, mode=\"KWSA\", verbose=False, *f_args):\n",
    "    '''\n",
    "    F = f(x)\n",
    "    x = input vector or init starting point\n",
    "    LPO_var = {A, b, bounds}, the constraints and bounds\n",
    "    '''\n",
    "    A = LPO_var[\"A\"]; b = LPO_var[\"b\"]; bounds = LPO_var[\"bounds\"]\n",
    "    dim = len(x)\n",
    "    x_out = np.copy(x)\n",
    "    if verbose:\n",
    "        x_array = np.zeros((max_iter, dim))\n",
    "    t = np.arange(max_iter) # sequence of t = 0,1,....max_iter\n",
    "    gamma = 2/(t + 8) # initialize gamma sequences\n",
    "    # rho and c sequences:\n",
    "    rho = c = None\n",
    "    if mode == \"KWSA\":\n",
    "        rho = 4/((t+8)**(2/3))\n",
    "        c = 2/(dim**(1/2) * ((t + 8)**(1/3)))\n",
    "    elif mode == \"IRDSA\":\n",
    "        rho = 4/(((1 + (dim/m))**(1/3)) * ((t+8)**(2/3)))\n",
    "        c = 2*np.sqrt(m)/(dim**(3/2) * (t+8)**(1/3))\n",
    "    elif mode == \"RDSA\":\n",
    "        rho = 4/(dim**(1/3) * (t+8)**(2/3))\n",
    "        c = 2/(dim**(3/2) * (t+8)**(1/3))\n",
    "    d = np.zeros(dim) #initial value d_0 = 0\n",
    "    x_mean = 0 #for xT\n",
    "    for i in t: #loop\n",
    "        grad = 0 #placeholder\n",
    "        if mode == \"KWSA\":\n",
    "            grad = grad_KWSA(F, x_out, c[i], dim, *f_args)\n",
    "        elif mode == \"IRDSA\":\n",
    "            grad = grad_IRDSA(F, x_out, c[i], dim, m, *f_args)\n",
    "        elif mode == \"RDSA\":\n",
    "            grad = grad_RDSA(F, x_out, c[i], dim, *f_args)\n",
    "        d = (1-rho[i])*d + rho[i]*grad #used for linear programming oracle (LPO)\n",
    "        v = linear_program_oracle(d, A, b, bounds) ### LPO\n",
    "        x_out = (1-gamma[i])*x_out + gamma[i]*v\n",
    "        if verbose:\n",
    "            x_array[i] = x_out\n",
    "        x_mean += x_out\n",
    "    x_mean /= max_iter #(sum of x)/T\n",
    "    if verbose:\n",
    "        return x_mean, x_array\n",
    "    else:\n",
    "        return x_mean\n",
    "\n",
    "'''Stochastic Gradient Free Frank Wolfe - NonConvex'''\n",
    "def SGF_frank_wolfe_noncvx(F, x, LPO_var, max_iter=200, m=10, verbose=False, *f_args):\n",
    "    '''\n",
    "    F = f(x)\n",
    "    x = input vector or init starting point\n",
    "    LPO_var = {A, b, bounds}, the constraints and bounds\n",
    "    '''\n",
    "    A = LPO_var[\"A\"]; b = LPO_var[\"b\"]; bounds = LPO_var[\"bounds\"]\n",
    "    dim = len(x)\n",
    "    x_out = np.copy(x)\n",
    "    if verbose:\n",
    "        x_array = np.zeros((max_iter, dim))\n",
    "    t = np.arange(max_iter) # sequence of t = 0,1,....max_iter\n",
    "    gamma = 1/(max_iter**(3/4)) # initialize gamma sequences\n",
    "    # rho and c sequences:\n",
    "    rho = 4/((1+dim/m)**(1/3) * (t+8)**(2/3))\n",
    "    c = 2*np.sqrt(m)/(dim**(3/2) * (t+8)**(1/3))\n",
    "    d = np.zeros(dim) #initial value d_0 = 0\n",
    "    for i in t: #loop\n",
    "        grad = grad_IRDSA(F, x_out, c[i], dim, m, *f_args)\n",
    "        d = (1-rho[i])*d + rho[i]*grad #used for linear programming oracle (LPO)\n",
    "        v = linear_program_oracle(d, A, b, bounds) ### LPO\n",
    "        x_out = (1-gamma)*x_out + gamma*v\n",
    "        if verbose:\n",
    "            x_array[i] = x_out\n",
    "    if verbose:\n",
    "        return x_out, x_array\n",
    "    else:\n",
    "        return x_out"
   ]
  },
  {
   "cell_type": "markdown",
   "metadata": {},
   "source": [
    "### Testing Ground"
   ]
  },
  {
   "cell_type": "markdown",
   "metadata": {},
   "source": [
    "<br>\n",
    "<li>Simple function for testing <br>\n",
    "$x^2 + y^2 + z^2$ <br>\n",
    "$-1 \\leq (x,y,z) \\leq 1$ <br>\n",
    "minimizer value:  $F(0,0,0) = 0$"
   ]
  },
  {
   "cell_type": "code",
   "execution_count": 30,
   "metadata": {},
   "outputs": [
    {
     "name": "stdout",
     "output_type": "stream",
     "text": [
      "{min x, F(x)} of Standard Frank Wolfe = [0.053 -0.053 0.053] 0.008310249311776426\n",
      "{min x, F(x)} of Frank Wolfe Away = [0.053 -0.053 0.053] 0.008310249311776426\n",
      "{min x, F(x)} of SGF Cvx Frank Wolfe = [0.026 0.007 -0.043] 0.002521757800648789\n",
      "{min x, F(x)} of SGF Non-Cvx Frank Wolfe = [-0.101 -0.104 -0.053] 0.023764366043292476\n"
     ]
    }
   ],
   "source": [
    "f = lambda x: np.sum(x**2)\n",
    "x = np.array([1., -1., 1.]) #random x0 within feasible reigon\n",
    "A = None\n",
    "b = None\n",
    "bounds = [(-1, 1)]*len(x)\n",
    "LPO_var = {\"A\":A, \"b\":b, \"bounds\":bounds}\n",
    "m=3 #for IRDSA gradient\n",
    "\n",
    "x_out = frank_wolfe(f, x, LPO_var, max_iter=200)\n",
    "print(\"{min x, F(x)} of Standard Frank Wolfe =\", x_out, f(x_out))\n",
    "x_out = frank_wolfe_away(f, x, LPO_var, max_iter=200)\n",
    "print(\"{min x, F(x)} of Frank Wolfe Away =\", x_out, f(x_out))\n",
    "x_out = SGF_frank_wolfe_cvx(f, x, LPO_var, max_iter=200, m=m, mode=\"IRDSA\") #looks like m corresponds to the dimension size of the problem to be more accurate\n",
    "print(\"{min x, F(x)} of SGF Cvx Frank Wolfe =\", x_out, f(x_out))\n",
    "x_out = SGF_frank_wolfe_noncvx(f, x, LPO_var, max_iter=200, m=m)\n",
    "print(\"{min x, F(x)} of SGF Non-Cvx Frank Wolfe =\", x_out, f(x_out))"
   ]
  },
  {
   "cell_type": "markdown",
   "metadata": {},
   "source": [
    "<li>Maximization test<br>\n",
    "$F(x,y,z) = x^2 + y^2 + z^2$ <br>\n",
    "$-1 \\leq (x,y,z) \\leq 1$ <br>\n",
    "the combinations of $\\{-1,1\\} \\in \\mathbb{Z}^3$ are the max values, e.g: $F(-1,1,1) = -3,\\quad f = -F = 3$ <br>"
   ]
  },
  {
   "cell_type": "code",
   "execution_count": 11,
   "metadata": {},
   "outputs": [
    {
     "name": "stdout",
     "output_type": "stream",
     "text": [
      "{min x, F(x)} of Standard Frank Wolfe = [1.000 1.000 1.000] 2.9999999957669528\n",
      "{min x, F(x)} of Frank Wolfe Away = [842333.734 842333.734 842335.234] 2128580886409.752\n",
      "{min x, F(x)} of SGF Cvx Frank Wolfe = [0.971 0.933 0.917] 2.6554067166094892\n",
      "{min x, F(x)} of SGF Non-Cvx Frank Wolfe = [-0.966 0.976 0.977] 2.8393884849079942\n"
     ]
    }
   ],
   "source": [
    "'''\n",
    "\n",
    "'''\n",
    "f = lambda x: -np.sum(x**2)\n",
    "x = np.array([0., 0., 0.]) #random x0 within feasible reigon\n",
    "A = None\n",
    "b = None\n",
    "bounds = [(-1, 1)]*len(x)\n",
    "LPO_var = {\"A\":A, \"b\":b, \"bounds\":bounds}\n",
    "m=3 #for IRDSA gradient\n",
    "\n",
    "x_out = frank_wolfe(f, x, LPO_var, max_iter=200)\n",
    "print(\"{min x, F(x)} of Standard Frank Wolfe =\", x_out, -f(x_out))\n",
    "x_out = frank_wolfe_away(f, x, LPO_var, max_iter=200)\n",
    "print(\"{min x, F(x)} of Frank Wolfe Away =\", x_out, -f(x_out))\n",
    "x_out = SGF_frank_wolfe_cvx(f, x, LPO_var, max_iter=200, m=m, mode=\"IRDSA\") #looks like m corresponds to the dimension size of the problem to be more accurate\n",
    "print(\"{min x, F(x)} of SGF Cvx Frank Wolfe =\", x_out, -f(x_out))\n",
    "x_out = SGF_frank_wolfe_noncvx(f, x, LPO_var, max_iter=200, m=m)\n",
    "print(\"{min x, F(x)} of SGF Non-Cvx Frank Wolfe =\", x_out, -f(x_out))"
   ]
  },
  {
   "cell_type": "markdown",
   "metadata": {},
   "source": [
    "<li>Function from: http://www.math.udel.edu/~angell/Opt/FW.pdf <br>\n",
    "minimzer value: $ F(1,695, 1,914) = -57.63$"
   ]
  },
  {
   "cell_type": "code",
   "execution_count": 237,
   "metadata": {
    "scrolled": true
   },
   "outputs": [
    {
     "name": "stdout",
     "output_type": "stream",
     "text": [
      "{min x, F(x)} of Standard Frank Wolfe = [1.582 2.253] -57.31468003018529\n",
      "{min x, F(x)} of Frank Wolfe Away = [2.178 3.739] -63.12670634345123\n",
      "{min x, F(x)} of SGF Cvx Frank Wolfe = [1.449 2.352] -55.23591041598563\n",
      "{min x, F(x)} of SGF Non-Cvx Frank Wolfe = [1.549 2.195] -56.55772389787758\n"
     ]
    }
   ],
   "source": [
    "f = lambda x: x[0]**4 - 32*x[0] + x[1]**2 - 8*x[1]\n",
    "x = np.array([0., 0.])\n",
    "A = [[1, -1], [3, 1]]\n",
    "b = [1, 7]\n",
    "bounds = [(0, None), (0, None)]\n",
    "LPO_var = {\"A\":A, \"b\":b, \"bounds\":bounds}\n",
    "m=5 #for IRDSA gradient\n",
    "x_out = frank_wolfe(f, x, LPO_var)\n",
    "print(\"{min x, F(x)} of Standard Frank Wolfe =\", x_out, f(x_out))\n",
    "x_out = frank_wolfe_away(f, x, LPO_var, max_iter=200)\n",
    "print(\"{min x, F(x)} of Frank Wolfe Away =\", x_out, f(x_out))\n",
    "x_out = SGF_frank_wolfe_cvx(f, x, LPO_var, max_iter=200, m=m, mode=\"IRDSA\") #looks like m corresponds to the dimension size of the problem to be more accurate\n",
    "print(\"{min x, F(x)} of SGF Cvx Frank Wolfe =\", x_out, f(x_out))\n",
    "x_out = SGF_frank_wolfe_noncvx(f, x, LPO_var, max_iter=200, m=m)\n",
    "print(\"{min x, F(x)} of SGF Non-Cvx Frank Wolfe =\", x_out, f(x_out))"
   ]
  },
  {
   "cell_type": "markdown",
   "metadata": {},
   "source": [
    "<li> Regression test, treated as blackbox function.<br>\n",
    "$\\frac{1}{2}||Ax - b||^2_2$ <br>\n",
    "with $||x||_1 \\leq \\alpha$"
   ]
  },
  {
   "cell_type": "code",
   "execution_count": 46,
   "metadata": {},
   "outputs": [
    {
     "name": "stdout",
     "output_type": "stream",
     "text": [
      "optimal function value (residual) =  1.5450629689658737e-26\n",
      "f(x) of Standard Frank Wolfe = 605131.6178771108\n",
      "||x* - x_out|| = 126.47244556560112\n",
      "f(x) of SGF Convex FW = 707688.3033304842\n",
      "||x* - x_out|| = 137.41034872962257\n",
      "f(x) of SGF Non-Cvx FW = 644494.3600534154\n",
      "||x* - x_out|| = 131.01498483661177\n",
      "f(lasso_coef) = 612.388767301812\n",
      "||x*-lasso_coef|| = 4.1026964337542315\n"
     ]
    }
   ],
   "source": [
    "#Regression test, treated as black box\n",
    "float_formatter = \"{:.3f}\".format\n",
    "np.set_printoptions(formatter={'float_kind':float_formatter})\n",
    "n_samples = 100; n_features = 100 #A is n_samples x n_features matrix, x is the variable to be optimized, b is the target\n",
    "A, b, coef = datasets.make_regression(n_samples, n_features, coef=True, random_state=0) #coef is the optimizer value\n",
    "f = lambda x,A,b: 0.5*np.square(np.linalg.norm(np.dot(A,x) - b))\n",
    "#f = lambda x,A,b: (0.5/b.shape[0])*np.square(np.linalg.norm(np.dot(A,x) - b)) + np.linalg.norm(x,1)\n",
    "#print(\"optimal coefficients = \",coef)\n",
    "f_star = f(coef, A, b) #optimal function value\n",
    "print(\"optimal function value (residual) = \", f_star) #the optimal value should be near 0\n",
    "A_ub = np.ones((1,n_features)) #L1 norm of x is <= 0.5*n_features\n",
    "b_ub = 0.5*n_features #more accurately, the implementation doesn't represent ||x||_1 <= alpha, but \\sum(x) <= alpha, which is less restrictive\n",
    "#A_ub = None\n",
    "#b_ub = None\n",
    "\n",
    "'''\n",
    "#gradient test:\n",
    "#print(\"KWSA\",grad_KWSA(f, np.zeros(n_features), 1e-10, n_features, A,b))\n",
    "#print(\"RDSA\",grad_KWSA(f, np.zeros(n_features), 1e-10, n_features, A,b))\n",
    "#print(\"IRDSA\",grad_IRDSA(f, np.zeros(n_features), 1e-10, n_features, 5, A,b))\n",
    "'''\n",
    "\n",
    "\n",
    "LPO_var = {\"A\":A_ub, \"b\":b_ub, \"bounds\":np.array([[None, None]]*n_features)}\n",
    "m=6\n",
    "x = np.random.normal(0, 1, size=(n_features))\n",
    "x_out, x_array_0 = frank_wolfe(f, x, LPO_var, 0.1, 200, True, A, b)\n",
    "print(\"f(x) of Standard Frank Wolfe =\", f(x_out, A, b))\n",
    "print(\"||x* - x_out|| =\", np.linalg.norm(coef-x_out))\n",
    "x_out, x_array_1 = SGF_frank_wolfe_cvx(f, x, LPO_var, 200, m, \"IRDSA\", True, A, b)\n",
    "print(\"f(x) of SGF Convex FW =\", f(x_out, A, b))\n",
    "print(\"||x* - x_out|| =\", np.linalg.norm(coef-x_out))\n",
    "x_out, x_array_2 = SGF_frank_wolfe_noncvx(f, x, LPO_var, 200, m, True, A, b)\n",
    "print(\"f(x) of SGF Non-Cvx FW =\", f(x_out, A, b))\n",
    "print(\"||x* - x_out|| =\", np.linalg.norm(coef-x_out))\n",
    "\n",
    "# actual lasso fit:\n",
    "from sklearn.linear_model import Lasso\n",
    "alpha=1\n",
    "dense_lasso = Lasso(alpha=alpha, fit_intercept=False, max_iter=1000)\n",
    "dense_lasso.fit(A, b)\n",
    "print(\"f(lasso_coef) =\", f(dense_lasso.coef_,A,b))\n",
    "print(\"||x*-lasso_coef|| =\", np.linalg.norm(coef-dense_lasso.coef_))\n",
    "\n"
   ]
  },
  {
   "cell_type": "markdown",
   "metadata": {},
   "source": [
    "Visualization of solution gaps of the regression problem"
   ]
  },
  {
   "cell_type": "code",
   "execution_count": 49,
   "metadata": {},
   "outputs": [
    {
     "data": {
      "image/png": "[encoded data removed]",
      "text/plain": [
       "<Figure size 720x720 with 1 Axes>"
      ]
     },
     "metadata": {
      "needs_background": "light"
     },
     "output_type": "display_data"
    }
   ],
   "source": [
    "# visualization of ||f* - f|| per iteration\n",
    "plt.rcParams[\"figure.figsize\"] = (10,10)\n",
    "length = len(x_array_0)\n",
    "# distance between points:\n",
    "dist_0 = np.array([np.linalg.norm(coef-x_array_0[i]) for i in range(length)])\n",
    "dist_1 = np.array([np.linalg.norm(coef-x_array_1[i]) for i in range(length)])\n",
    "dist_2 = np.array([np.linalg.norm(coef-x_array_2[i]) for i in range(length)])\n",
    "# distance between function values:\n",
    "f_dist_0 = np.array([np.abs(f(x_array_0[i],A,b)-f_star) for i in range(length)])\n",
    "f_dist_1 = np.array([np.abs(f(x_array_1[i],A,b)-f_star) for i in range(length)])\n",
    "f_dist_2 = np.array([np.abs(f(x_array_2[i],A,b)-f_star) for i in range(length)])\n",
    "plt.plot(dist_0)\n",
    "plt.ylabel(\"||x* - x||\")\n",
    "plt.xlabel(\"iteration\")\n",
    "plt.grid()\n",
    "plt.show()"
   ]
  },
  {
   "cell_type": "code",
   "execution_count": 138,
   "metadata": {},
   "outputs": [
    {
     "name": "stdout",
     "output_type": "stream",
     "text": [
      "\n",
      "The optimal value is -15.220912605552863\n",
      "A solution x is\n",
      "[-1.10133381 -0.16360111 -0.89734939  0.03216603  0.6069123  -1.12687348\n",
      "  1.12967856  0.88176638  0.49075229  0.8984822 ]\n",
      "A dual solution is\n",
      "[6.98805172e-10 6.11756416e-01 5.28171747e-01 1.07296862e+00\n",
      " 3.93759300e-09 2.30153870e+00 4.25704434e-10 7.61206896e-01\n",
      " 8.36906030e-09 2.49370377e-01 1.30187120e-09 2.06014070e+00\n",
      " 3.22417207e-01 3.84054343e-01 1.59493839e-09]\n"
     ]
    }
   ],
   "source": [
    "import cvxpy as cp\n",
    "# Generate a random non-trivial linear program.\n",
    "m = 15\n",
    "n = 10\n",
    "np.random.seed(1)\n",
    "s0 = np.random.randn(m)\n",
    "lamb0 = np.maximum(-s0, 0)\n",
    "s0 = np.maximum(s0, 0)\n",
    "x0 = np.random.randn(n)\n",
    "A = np.random.randn(m, n)\n",
    "b = A @ x0 + s0\n",
    "c = -A.T @ lamb0\n",
    "\n",
    "# Define and solve the CVXPY problem.\n",
    "x = cp.Variable(n)\n",
    "prob = cp.Problem(cp.Minimize(c.T@x),\n",
    "                 [A @ x <= b])\n",
    "prob.solve()\n",
    "\n",
    "# Print result.\n",
    "print(\"\\nThe optimal value is\", prob.value)\n",
    "print(\"A solution x is\")\n",
    "print(x.value)\n",
    "print(\"A dual solution is\")\n",
    "print(prob.constraints[0].dual_value)"
   ]
  },
  {
   "cell_type": "code",
   "execution_count": null,
   "metadata": {},
   "outputs": [],
   "source": []
  }
 ],
 "metadata": {
  "kernelspec": {
   "display_name": "Python 3",
   "language": "python",
   "name": "python3"
  },
  "language_info": {
   "codemirror_mode": {
    "name": "ipython",
    "version": 3
   },
   "file_extension": ".py",
   "mimetype": "text/x-python",
   "name": "python",
   "nbconvert_exporter": "python",
   "pygments_lexer": "ipython3",
   "version": "3.7.3"
  }
 },
 "nbformat": 4,
 "nbformat_minor": 2
}
