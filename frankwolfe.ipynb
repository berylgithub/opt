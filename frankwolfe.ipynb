{
 "cells": [
  {
   "cell_type": "markdown",
   "metadata": {},
   "source": [
    "# Brief Analysis of Zeroth-Order Frank-Wolfe Variants [Sahu et al] on Black Box settings"
   ]
  },
  {
   "cell_type": "markdown",
   "metadata": {},
   "source": [
    "## Introduction <br>\n",
    "This short essay presents the analysis and mainly the implementation of the Frank-Wolfe Algorithm variants devised by Sahu et al [1] for stochastic-black box optimization setting. The organization of the contents is as follows:\n",
    "<br> (1) Brief Description of the Gradient approximations.\n",
    "<br> (2) Brief Description of the Algorithm variants.\n",
    "<br> (3) Implementation of the Algorithms.\n",
    "<br> (4) Testing/benchmarks."
   ]
  },
  {
   "cell_type": "markdown",
   "metadata": {},
   "source": [
    "## (1) Gradient Approximations\n",
    "\n",
    "The main important ingredient of the zeroth-order method is the gradient approximation schemes. Three gradient approximation versions are proposed in [1]: Kiefer-Wolfowitz Stochastic Approximation (KWSA), Random Directions Gradient Estimator (RDSA), and Improved - Random Directions Gradient Estimator (I-RDSA). All of the gradient schemes mentioned are based on the finite difference approximation, the modification lies in the replacement of the near-zero constant with a time-decaying sequence. Briefly, the differences between the mentioned gradient schemes are as the following:<br>\n",
    "<li> KWSA: Samples the gradient along the canonical basis (finite difference for dimension $>= 1$).\n",
    "<li> RDSA: Randomly samples one direction vector each iteration which is scaled with the time-decaying sequence.\n",
    "<li> I-RDSA: Randomly samples one direction vector multiple times then takes the mean direction which is scaled with the time-decaying sequence.\n",
    "<br>\n",
    "It is clear that RDSA and I-RDSA are stochastic in nature while KWSA is deterministic."
   ]
  },
  {
   "cell_type": "markdown",
   "metadata": {},
   "source": [
    "## (2) Frank-Wolfe variants\n",
    "\n",
    "Several variants of Frank-Wolfe algorithm are proposed in [1] in the context on developing projection free and black-box stochastic variants: Zeroth Order Deterministic Frank-Wolfe, Zeroth Order Stochastic Frank-Wolfe, Non-convex Zeroth Order Stochastic Frank-Wolfe. A few assumptions are required for the algorithms to work; e.g., the domain of the set is convex, the function is convex and Lipschitz continuous, and the expectation of the distance between the gradient approximation and the analytical gradient must be bounded. All of the mentioned algorithms require time-decaying sequences of constants $\\rho$, $c$, and $\\gamma$; consecutively, they are employed for the scaling of direction vector, scalar for gradient approximation, and scaling of the iterates; where each sequence contributes to the order of optimality of each algorithm. Mainly the differences between the Frank-Wolfe variants are as following:\n",
    "<li> Deterministic Zeroth Order: Requires Lipschitz constant for the gradient, and uses KWSA as the gradient estimator.\n",
    "<li> Stochastic Convex: Possible to use all three kinds of gradient estimators, each estimator has its own time-decaying sequence of $\\rho$ and $c$ depending on the dimension of the objective function.\n",
    "<li> Stochastic Non-Convex: Only I-RDSA gradient estimator is used. The $\\gamma$ becomes a constant throughout the iterations instead of a time-decaying sequence. Despite being tailored for Non-Convex, the input still requires a convex set."
   ]
  },
  {
   "cell_type": "markdown",
   "metadata": {},
   "source": [
    "## (3) Implementation\n",
    "The cell below imports all of the required dependencies."
   ]
  },
  {
   "cell_type": "code",
   "execution_count": 56,
   "metadata": {},
   "outputs": [],
   "source": [
    "import numpy as np\n",
    "from scipy import sparse\n",
    "import pylab as plt\n",
    "from sklearn import datasets\n",
    "from scipy.optimize import linprog"
   ]
  },
  {
   "cell_type": "markdown",
   "metadata": {},
   "source": [
    "Run a test on the LPO from scipy library before incorporating it in the main algorithms."
   ]
  },
  {
   "cell_type": "code",
   "execution_count": 57,
   "metadata": {},
   "outputs": [
    {
     "name": "stdout",
     "output_type": "stream",
     "text": [
      "     con: array([], dtype=float64)\n",
      "     fun: -11.428571428571427\n",
      " message: 'Optimization terminated successfully.'\n",
      "     nit: 2\n",
      "   slack: array([0.0000000e+00, 4.4408921e-16])\n",
      "  status: 0\n",
      " success: True\n",
      "       x: array([-1.14285714,  2.57142857])\n",
      "11.428571428571427\n"
     ]
    }
   ],
   "source": [
    "'''Linear Programming'''\n",
    "# f(x0,x1) = -x0 + 4x1\n",
    "f = lambda x: -x[0] + 4*x[1]\n",
    "c = np.array([-1, 4])\n",
    "A = [[-3, 1], [1, 2]]\n",
    "b = [6, 4]\n",
    "\n",
    "#A = np.array([[-3, 1]])\n",
    "#b = 6\n",
    "\n",
    "x0_bounds = (None, None)\n",
    "x1_bounds = (-3, None)\n",
    "res = linprog(-c, A_ub=A, b_ub=b, bounds=[x0_bounds, x1_bounds]) # there is also A_eq and b_eq which is Ax = b constraints\n",
    "print(res)\n",
    "print(f(res[\"x\"]))\n",
    "#print(linear_program_oracle(c, A, b, [(None, None), (-3, None)]))"
   ]
  },
  {
   "cell_type": "markdown",
   "metadata": {},
   "source": [
    "### Helper Functions\n",
    "\n",
    "Contains the gradient approximation schemes: KWSA, RDSA, and I-RDSA. Alongside the Linear Programming Oracle (LPO) caller. In this case the LPO uses the implementation from scipy library."
   ]
  },
  {
   "cell_type": "code",
   "execution_count": 58,
   "metadata": {},
   "outputs": [
    {
     "name": "stdout",
     "output_type": "stream",
     "text": [
      "x = [0 0] :\n",
      "KWSA [-32.  -8.]\n",
      "RDSA [-10.7526609 -37.3906367]\n",
      "IRDSA [-61.11792326 -42.07584978]\n",
      "x = [2 4] :\n",
      "KWSA [0. 0.]\n",
      "RDSA [ 0. -0.]\n",
      "IRDSA [0. 0.]\n"
     ]
    }
   ],
   "source": [
    "'''Helper functions, for gradients, oracles, etc'''\n",
    "def grad_KWSA(F, x, c, d, *f_args):\n",
    "    '''\n",
    "    f_args is the arguments of F(.), used if there are complicated functions which reqiures more parameter than just x \n",
    "    '''\n",
    "    grad = 0\n",
    "    e = np.zeros(d)\n",
    "    for i in range(d):\n",
    "        e[i] = 1 #cb-vector\n",
    "        grad += ((F(x + c*e, *f_args) - F(x, *f_args))/c)*e #calculate the gradient\n",
    "        e[i] = 0 #reset cb-vector\n",
    "    return grad\n",
    "\n",
    "def grad_RDSA(F, x, c, d, *f_args):\n",
    "    z = np.random.normal(0, 1, size=(d)) #mean = 0, std = 1\n",
    "    grad = ((F(x + c*z, *f_args) - F(x, *f_args))/c)*z\n",
    "    return grad\n",
    "\n",
    "def grad_IRDSA(F, x, c, d, m=5, *f_args):\n",
    "    grad = 0\n",
    "    for i in range(m):\n",
    "        z = np.random.normal(0, 1, size=(d)) #mean = 0, std = 1\n",
    "        grad += ((F(x + c*z, *f_args) - F(x, *f_args))/c)*z\n",
    "    return grad/m\n",
    "\n",
    "def linear_program_oracle(coef, A_ub, b_ub, bounds):\n",
    "    '''\n",
    "    f(x) = c^Tx\n",
    "    Ax <= b\n",
    "    x within bounds \n",
    "    coef = [c_x0, c_x1, ....] coefficient of the equation\n",
    "    A = [[a0_x0, a0_x1, ...],[a1_x0, a1_x1, ...]] ineq constraint matrix\n",
    "    b = [b0, b1, ....] ineq constraint vector\n",
    "    bounds = [(lb_x0, ub_x0), (lb_x1, ub_x1),....]\n",
    "    '''\n",
    "    res = linprog(coef, A_ub=A_ub, b_ub=b_ub, bounds=bounds)\n",
    "    return res[\"x\"] \n",
    "\n",
    "# gradient test:\n",
    "'''\n",
    "f = lambda x: x[0]**2 + x[1]**2\n",
    "c = 1e-10\n",
    "x = np.array([1,2])\n",
    "'''\n",
    "f = lambda x: x[0]**4 - 32*x[0] + x[1]**2 - 8*x[1]\n",
    "c = 1e-10\n",
    "x = np.array([0,0])\n",
    "print(\"x =\",x,\":\")\n",
    "print(\"KWSA\", grad_KWSA(f, x, c, len(x)))\n",
    "print(\"RDSA\", grad_RDSA(f, x, c, len(x)))\n",
    "print(\"IRDSA\", grad_IRDSA(f, x, c, len(x)))\n",
    "x = np.array([2,4]) #x = (2,4) is the global minimum, hence gradient = 0\n",
    "print(\"x =\",x,\":\")\n",
    "print(\"KWSA\", grad_KWSA(f, x, c, len(x)))\n",
    "print(\"RDSA\", grad_RDSA(f, x, c, len(x)))\n",
    "print(\"IRDSA\", grad_IRDSA(f, x, c, len(x)))\n",
    "\n"
   ]
  },
  {
   "cell_type": "markdown",
   "metadata": {},
   "source": [
    "### Frank-Wolfe Algorithm variants\n",
    "\n",
    "Four types of Frank-Wolfe algorithms are implemented, particularly two variants of the zeroth-order stochastic from [1], the \"standard\" Frank-Wolfe, and the \"away\" Frank-Wolfe algorithms. The \"standard\" and \"away\" Frank-Wolfe in this case uses KWSA without any first order information on the gradient (since the problem's setting is black-box), hence it is slightly modified. An almost zero constant $c$ here is taken as the parameter for the KWSA of \"standard\" and \"away\" variants instead of the time-decaying sequence."
   ]
  },
  {
   "cell_type": "code",
   "execution_count": 59,
   "metadata": {},
   "outputs": [],
   "source": [
    "'''Standard frank wolfe algorfithm'''\n",
    "def frank_wolfe(F, x, LPO_var, alpha=0.1, max_iter=200, verbose=False, *f_args):\n",
    "    '''\n",
    "    F = f(x)\n",
    "    x = input vector or init starting point\n",
    "    LPO_var = {A, b, bounds}, the constraints and bounds\n",
    "    f_args is the arguments of F(.), used if there are complicated functions which reqiures more parameter than just x \n",
    "    '''\n",
    "    A = LPO_var[\"A\"]; b = LPO_var[\"b\"]; bounds = LPO_var[\"bounds\"]\n",
    "    dim = len(x)\n",
    "    x_out = np.copy(x) # so that the global input x wont be changed\n",
    "    if verbose:\n",
    "        x_array = np.zeros((max_iter, dim))\n",
    "    for i in range(max_iter):\n",
    "        grad = grad_KWSA(F, x_out, 1e-10, dim, *f_args)\n",
    "        v = linear_program_oracle(grad, A, b, bounds)\n",
    "        x_out += alpha*(v - x_out)\n",
    "        if verbose:\n",
    "            x_array[i] = x_out\n",
    "    if verbose:\n",
    "        return x_out, x_array\n",
    "    else:\n",
    "        return x_out\n",
    "\n",
    "def frank_wolfe_away(F, x, LPO_var, alpha=0.1, max_iter=200, *f_args):\n",
    "    '''\n",
    "    away version of Frank Wolfe Algorithm\n",
    "    F = f(x)\n",
    "    x = input vector or init starting point\n",
    "    LPO_var = {A, b, bounds}, the constraints and bounds\n",
    "    '''\n",
    "    A = LPO_var[\"A\"]; b = LPO_var[\"b\"]; bounds = LPO_var[\"bounds\"]\n",
    "    dim = len(x)\n",
    "    alpha_bar = 0 # placeholder\n",
    "    x_out = np.copy(x)\n",
    "    for i in range(max_iter):\n",
    "        grad = grad_KWSA(F, x_out, 1e-10, dim, *f_args)\n",
    "        v_FW = linear_program_oracle(grad, A, b, bounds)\n",
    "        v_AS = linear_program_oracle(-grad, A, b, bounds) # away step\n",
    "        d_FW = v_FW - x_out; d_AS = x_out - v_AS\n",
    "        grad_FW = np.dot(grad, d_FW); grad_AS = np.dot(grad, d_AS)\n",
    "        if grad_FW <= grad_AS:\n",
    "            d = d_FW\n",
    "            alpha_bar = 1\n",
    "        else:\n",
    "            d = d_AS\n",
    "            alpha_bar = 1 # temporary\n",
    "        x_out += alpha*d\n",
    "    return x_out\n",
    "    \n",
    "    \n",
    "'''Zeroth Order Frank Wolfe Algorithms [Sahu et al]'''\n",
    "'''Stochastic Gradient Free Frank Wolfe - Convex'''\n",
    "def SGF_frank_wolfe_cvx(F, x, LPO_var, max_iter=200, m=10, mode=\"KWSA\", verbose=False, *f_args):\n",
    "    '''\n",
    "    F = f(x)\n",
    "    x = input vector or init starting point\n",
    "    LPO_var = {A, b, bounds}, the constraints and bounds\n",
    "    '''\n",
    "    A = LPO_var[\"A\"]; b = LPO_var[\"b\"]; bounds = LPO_var[\"bounds\"]\n",
    "    dim = len(x)\n",
    "    x_out = np.copy(x)\n",
    "    if verbose:\n",
    "        x_array = np.zeros((max_iter, dim))\n",
    "    t = np.arange(max_iter) # sequence of t = 0,1,....max_iter\n",
    "    gamma = 2/(t + 8) # initialize gamma sequences\n",
    "    # rho and c sequences:\n",
    "    rho = c = None\n",
    "    if mode == \"KWSA\":\n",
    "        rho = 4/((t+8)**(2/3))\n",
    "        c = 2/(dim**(1/2) * ((t + 8)**(1/3)))\n",
    "    elif mode == \"IRDSA\":\n",
    "        rho = 4/(((1 + (dim/m))**(1/3)) * ((t+8)**(2/3)))\n",
    "        c = 2*np.sqrt(m)/(dim**(3/2) * (t+8)**(1/3))\n",
    "    elif mode == \"RDSA\":\n",
    "        rho = 4/(dim**(1/3) * (t+8)**(2/3))\n",
    "        c = 2/(dim**(3/2) * (t+8)**(1/3))\n",
    "    d = np.zeros(dim) # initial value d_0 = 0\n",
    "    x_mean = 0 # for xT\n",
    "    for i in t: # loop\n",
    "        grad = 0 # placeholder\n",
    "        if mode == \"KWSA\":\n",
    "            grad = grad_KWSA(F, x_out, c[i], dim, *f_args)\n",
    "        elif mode == \"IRDSA\":\n",
    "            grad = grad_IRDSA(F, x_out, c[i], dim, m, *f_args)\n",
    "        elif mode == \"RDSA\":\n",
    "            grad = grad_RDSA(F, x_out, c[i], dim, *f_args)\n",
    "        d = (1-rho[i])*d + rho[i]*grad # used for linear programming oracle (LPO)\n",
    "        v = linear_program_oracle(d, A, b, bounds) ### LPO\n",
    "        x_out = (1-gamma[i])*x_out + gamma[i]*v\n",
    "        if verbose:\n",
    "            x_array[i] = x_out\n",
    "        x_mean += x_out\n",
    "    x_mean /= max_iter # (sum of x)/T\n",
    "    if verbose:\n",
    "        return x_mean, x_array\n",
    "    else:\n",
    "        return x_mean\n",
    "\n",
    "'''Stochastic Gradient Free Frank Wolfe - NonConvex'''\n",
    "def SGF_frank_wolfe_noncvx(F, x, LPO_var, max_iter=200, m=10, verbose=False, *f_args):\n",
    "    '''\n",
    "    F = f(x)\n",
    "    x = input vector or init starting point\n",
    "    LPO_var = {A, b, bounds}, the constraints and bounds\n",
    "    '''\n",
    "    A = LPO_var[\"A\"]; b = LPO_var[\"b\"]; bounds = LPO_var[\"bounds\"]\n",
    "    dim = len(x)\n",
    "    x_out = np.copy(x)\n",
    "    if verbose:\n",
    "        x_array = np.zeros((max_iter, dim))\n",
    "    t = np.arange(max_iter) # sequence of t = 0,1,....max_iter\n",
    "    gamma = 1/(max_iter**(3/4)) # initialize gamma sequences\n",
    "    # rho and c sequences:\n",
    "    rho = 4/((1+dim/m)**(1/3) * (t+8)**(2/3))\n",
    "    c = 2*np.sqrt(m)/(dim**(3/2) * (t+8)**(1/3))\n",
    "    d = np.zeros(dim) # initial value d_0 = 0\n",
    "    for i in t: # loop\n",
    "        grad = grad_IRDSA(F, x_out, c[i], dim, m, *f_args)\n",
    "        d = (1-rho[i])*d + rho[i]*grad # used for linear programming oracle (LPO)\n",
    "        v = linear_program_oracle(d, A, b, bounds) ### LPO\n",
    "        x_out = (1-gamma)*x_out + gamma*v\n",
    "        if verbose:\n",
    "            x_array[i] = x_out\n",
    "    if verbose:\n",
    "        return x_out, x_array\n",
    "    else:\n",
    "        return x_out"
   ]
  },
  {
   "cell_type": "markdown",
   "metadata": {},
   "source": [
    "## (4) Testing Ground\n",
    "\n",
    "Mostly the tests are run on simple linearly-constrained convex functions in addition to a regression problem. Sahu and Soummya [2] also reported the experiments on Black-Box Adversarial Attacks, using LeNet-5 trained on MNIST (image classification) dataset to find the universal perturbation by the means of stochastic optimization problem (using $l\\infty$ norm as the linear inequality constraint)."
   ]
  },
  {
   "cell_type": "markdown",
   "metadata": {},
   "source": [
    "<br>\n",
    "<li>Simple function for testing <br>\n",
    "$x^2 + y^2 + z^2$ <br>\n",
    "$-1 \\leq (x,y,z) \\leq 1$ <br>\n",
    "minimizer value:  $F(0,0,0) = 0$"
   ]
  },
  {
   "cell_type": "code",
   "execution_count": 30,
   "metadata": {},
   "outputs": [
    {
     "name": "stdout",
     "output_type": "stream",
     "text": [
      "{min x, F(x)} of Standard Frank Wolfe = [0.053 -0.053 0.053] 0.008310249311776426\n",
      "{min x, F(x)} of Frank Wolfe Away = [0.053 -0.053 0.053] 0.008310249311776426\n",
      "{min x, F(x)} of SGF Cvx Frank Wolfe = [0.026 0.007 -0.043] 0.002521757800648789\n",
      "{min x, F(x)} of SGF Non-Cvx Frank Wolfe = [-0.101 -0.104 -0.053] 0.023764366043292476\n"
     ]
    }
   ],
   "source": [
    "f = lambda x: np.sum(x**2)\n",
    "x = np.array([1., -1., 1.]) # random x0 within feasible reigon\n",
    "A = None\n",
    "b = None\n",
    "bounds = [(-1, 1)]*len(x)\n",
    "LPO_var = {\"A\":A, \"b\":b, \"bounds\":bounds}\n",
    "m=3 # for IRDSA gradient\n",
    "\n",
    "x_out = frank_wolfe(f, x, LPO_var, max_iter=200)\n",
    "print(\"{min x, F(x)} of Standard Frank Wolfe =\", x_out, f(x_out))\n",
    "x_out = frank_wolfe_away(f, x, LPO_var, max_iter=200)\n",
    "print(\"{min x, F(x)} of Frank Wolfe Away =\", x_out, f(x_out))\n",
    "x_out = SGF_frank_wolfe_cvx(f, x, LPO_var, max_iter=200, m=m, mode=\"IRDSA\") # looks like m corresponds to the dimension size of the problem to be more accurate\n",
    "print(\"{min x, F(x)} of SGF Cvx Frank Wolfe =\", x_out, f(x_out))\n",
    "x_out = SGF_frank_wolfe_noncvx(f, x, LPO_var, max_iter=200, m=m)\n",
    "print(\"{min x, F(x)} of SGF Non-Cvx Frank Wolfe =\", x_out, f(x_out))"
   ]
  },
  {
   "cell_type": "markdown",
   "metadata": {},
   "source": [
    "<li>Maximization test<br>\n",
    "$F(x,y,z) = x^2 + y^2 + z^2$ <br>\n",
    "$-1 \\leq (x,y,z) \\leq 1$ <br>\n",
    "the combinations of $\\{-1,1\\} \\in \\mathbb{Z}^3$ are the max values, e.g: $F(-1,1,1) = -3,\\quad f = -F = 3$ <br>"
   ]
  },
  {
   "cell_type": "code",
   "execution_count": 11,
   "metadata": {},
   "outputs": [
    {
     "name": "stdout",
     "output_type": "stream",
     "text": [
      "{min x, F(x)} of Standard Frank Wolfe = [1.000 1.000 1.000] 2.9999999957669528\n",
      "{min x, F(x)} of Frank Wolfe Away = [842333.734 842333.734 842335.234] 2128580886409.752\n",
      "{min x, F(x)} of SGF Cvx Frank Wolfe = [0.971 0.933 0.917] 2.6554067166094892\n",
      "{min x, F(x)} of SGF Non-Cvx Frank Wolfe = [-0.966 0.976 0.977] 2.8393884849079942\n"
     ]
    }
   ],
   "source": [
    "f = lambda x: -np.sum(x**2)\n",
    "x = np.array([0., 0., 0.]) # random x0 within feasible reigon\n",
    "A = None\n",
    "b = None\n",
    "bounds = [(-1, 1)]*len(x)\n",
    "LPO_var = {\"A\":A, \"b\":b, \"bounds\":bounds}\n",
    "m=3 #for IRDSA gradient\n",
    "\n",
    "x_out = frank_wolfe(f, x, LPO_var, max_iter=200)\n",
    "print(\"{min x, F(x)} of Standard Frank Wolfe =\", x_out, -f(x_out))\n",
    "x_out = frank_wolfe_away(f, x, LPO_var, max_iter=200)\n",
    "print(\"{min x, F(x)} of Frank Wolfe Away =\", x_out, -f(x_out))\n",
    "x_out = SGF_frank_wolfe_cvx(f, x, LPO_var, max_iter=200, m=m, mode=\"IRDSA\")\n",
    "print(\"{min x, F(x)} of SGF Cvx Frank Wolfe =\", x_out, -f(x_out))\n",
    "x_out = SGF_frank_wolfe_noncvx(f, x, LPO_var, max_iter=200, m=m)\n",
    "print(\"{min x, F(x)} of SGF Non-Cvx Frank Wolfe =\", x_out, -f(x_out))"
   ]
  },
  {
   "cell_type": "markdown",
   "metadata": {},
   "source": [
    "<li>Function from: http://www.math.udel.edu/~angell/Opt/FW.pdf <br>\n",
    "minimzer value: $ F(1,695, 1,914) = -57.63$"
   ]
  },
  {
   "cell_type": "code",
   "execution_count": 237,
   "metadata": {
    "scrolled": true
   },
   "outputs": [
    {
     "name": "stdout",
     "output_type": "stream",
     "text": [
      "{min x, F(x)} of Standard Frank Wolfe = [1.582 2.253] -57.31468003018529\n",
      "{min x, F(x)} of Frank Wolfe Away = [2.178 3.739] -63.12670634345123\n",
      "{min x, F(x)} of SGF Cvx Frank Wolfe = [1.449 2.352] -55.23591041598563\n",
      "{min x, F(x)} of SGF Non-Cvx Frank Wolfe = [1.549 2.195] -56.55772389787758\n"
     ]
    }
   ],
   "source": [
    "f = lambda x: x[0]**4 - 32*x[0] + x[1]**2 - 8*x[1]\n",
    "x = np.array([0., 0.])\n",
    "A = [[1, -1], [3, 1]]\n",
    "b = [1, 7]\n",
    "bounds = [(0, None), (0, None)]\n",
    "LPO_var = {\"A\":A, \"b\":b, \"bounds\":bounds}\n",
    "m=5 #for IRDSA gradient\n",
    "x_out = frank_wolfe(f, x, LPO_var)\n",
    "print(\"{min x, F(x)} of Standard Frank Wolfe =\", x_out, f(x_out))\n",
    "x_out = frank_wolfe_away(f, x, LPO_var, max_iter=200)\n",
    "print(\"{min x, F(x)} of Frank Wolfe Away =\", x_out, f(x_out))\n",
    "x_out = SGF_frank_wolfe_cvx(f, x, LPO_var, max_iter=200, m=m, mode=\"IRDSA\") #looks like m corresponds to the dimension size of the problem to be more accurate\n",
    "print(\"{min x, F(x)} of SGF Cvx Frank Wolfe =\", x_out, f(x_out))\n",
    "x_out = SGF_frank_wolfe_noncvx(f, x, LPO_var, max_iter=200, m=m)\n",
    "print(\"{min x, F(x)} of SGF Non-Cvx Frank Wolfe =\", x_out, f(x_out))"
   ]
  },
  {
   "cell_type": "markdown",
   "metadata": {},
   "source": [
    "<li> Regression test, treated as blackbox function.<br>\n",
    "$\\frac{1}{2}||Ax - b||^2_2$ <br>\n",
    "with $||x||_1 \\leq \\alpha$"
   ]
  },
  {
   "cell_type": "code",
   "execution_count": 61,
   "metadata": {},
   "outputs": [
    {
     "name": "stdout",
     "output_type": "stream",
     "text": [
      "optimal function value (residual) =  1.5450629689658737e-26\n",
      "f(x) of Standard Frank Wolfe = 605638.5078337863\n",
      "||x* - x_out|| = 126.35066215145352\n",
      "f(x) of SGF Convex FW = 648584.6002842537\n",
      "||x* - x_out|| = 131.0387485279045\n",
      "f(x) of SGF Non-Cvx FW = 625666.1461866343\n",
      "||x* - x_out|| = 127.30406666054247\n",
      "f(lasso_coef) = 612.388767301812\n",
      "||x*-lasso_coef|| = 4.1026964337542315\n"
     ]
    }
   ],
   "source": [
    "#Regression test, treated as black box\n",
    "float_formatter = \"{:.3f}\".format\n",
    "np.set_printoptions(formatter={'float_kind':float_formatter})\n",
    "n_samples = 100; n_features = 100 # A is n_samples x n_features matrix, x is the variable to be optimized, b is the target\n",
    "A, b, coef = datasets.make_regression(n_samples, n_features, coef=True, random_state=0) # coef is the optimizer value\n",
    "f = lambda x,A,b: 0.5*np.square(np.linalg.norm(np.dot(A,x) - b))\n",
    "#f = lambda x,A,b: (0.5/b.shape[0])*np.square(np.linalg.norm(np.dot(A,x) - b)) + np.linalg.norm(x,1)\n",
    "#print(\"optimal coefficients = \",coef)\n",
    "f_star = f(coef, A, b) #optimal function value\n",
    "print(\"optimal function value (residual) = \", f_star) # the optimal value should be near 0\n",
    "A_ub = np.ones((1,n_features)) # L1 norm of x is <= 0.5*n_features\n",
    "b_ub = 0.5*n_features # more accurately, the implementation doesn't represent ||x||_1 <= alpha, but \\sum(x) <= alpha, which is less restrictive\n",
    "#A_ub = None\n",
    "#b_ub = None\n",
    "\n",
    "\n",
    "LPO_var = {\"A\":A_ub, \"b\":b_ub, \"bounds\":np.array([[None, None]]*n_features)}\n",
    "m=6\n",
    "x = np.random.normal(0, b_ub, size=(n_features))\n",
    "x_out, x_array_0 = frank_wolfe(f, x, LPO_var, 0.1, 1000, True, A, b)\n",
    "print(\"f(x) of Standard Frank Wolfe =\", f(x_out, A, b))\n",
    "print(\"||x* - x_out|| =\", np.linalg.norm(coef-x_out))\n",
    "x_out, x_array_1 = SGF_frank_wolfe_cvx(f, x, LPO_var, 1000, m, \"IRDSA\", True, A, b)\n",
    "print(\"f(x) of SGF Convex FW =\", f(x_out, A, b))\n",
    "print(\"||x* - x_out|| =\", np.linalg.norm(coef-x_out))\n",
    "x_out, x_array_2 = SGF_frank_wolfe_noncvx(f, x, LPO_var, 1000, m, True, A, b)\n",
    "print(\"f(x) of SGF Non-Cvx FW =\", f(x_out, A, b))\n",
    "print(\"||x* - x_out|| =\", np.linalg.norm(coef-x_out))\n",
    "\n",
    "# actual lasso fit:\n",
    "from sklearn.linear_model import Lasso\n",
    "alpha=1\n",
    "dense_lasso = Lasso(alpha=alpha, fit_intercept=False, max_iter=1000)\n",
    "dense_lasso.fit(A, b)\n",
    "print(\"f(lasso_coef) =\", f(dense_lasso.coef_,A,b))\n",
    "print(\"||x*-lasso_coef|| =\", np.linalg.norm(coef-dense_lasso.coef_))\n",
    "\n"
   ]
  },
  {
   "cell_type": "markdown",
   "metadata": {},
   "source": [
    "Visualization of solution gaps of the regression problem"
   ]
  },
  {
   "cell_type": "code",
   "execution_count": 63,
   "metadata": {},
   "outputs": [
    {
     "data": {
      "image/png": "[encoded data removed]",
      "text/plain": [
       "<Figure size 720x720 with 1 Axes>"
      ]
     },
     "metadata": {
      "needs_background": "light"
     },
     "output_type": "display_data"
    },
    {
     "data": {
      "image/png": "[encoded data removed]",
      "text/plain": [
       "<Figure size 720x720 with 1 Axes>"
      ]
     },
     "metadata": {
      "needs_background": "light"
     },
     "output_type": "display_data"
    }
   ],
   "source": [
    "# visualization of ||x* - x|| per iteration\n",
    "plt.rcParams[\"figure.figsize\"] = (10,10)\n",
    "length = len(x_array_0)\n",
    "# distance between points:\n",
    "dist_0 = np.array([np.linalg.norm(coef-x_array_0[i]) for i in range(length)])\n",
    "dist_1 = np.array([np.linalg.norm(coef-x_array_1[i]) for i in range(length)])\n",
    "dist_2 = np.array([np.linalg.norm(coef-x_array_2[i]) for i in range(length)])\n",
    "plt.figure(0)\n",
    "plt.plot(dist_0, label=\"Standard FW\")\n",
    "plt.plot(dist_1, label=\"SGF CVX FW\")\n",
    "plt.plot(dist_2, label=\"SGF Non CVX FW\")\n",
    "plt.ylabel(\"||x* - x||\")\n",
    "plt.xlabel(\"iteration\")\n",
    "plt.grid()\n",
    "plt.legend()\n",
    "plt.show()\n",
    "\n",
    "# distance between function values:\n",
    "f_dist_0 = np.array([np.abs(f(x_array_0[i],A,b)-f_star) for i in range(length)])\n",
    "f_dist_1 = np.array([np.abs(f(x_array_1[i],A,b)-f_star) for i in range(length)])\n",
    "f_dist_2 = np.array([np.abs(f(x_array_2[i],A,b)-f_star) for i in range(length)])\n",
    "plt.figure(1)\n",
    "plt.plot(f_dist_0, label=\"Standard FW\")\n",
    "plt.plot(f_dist_1, label=\"SGF CVX FW\")\n",
    "plt.plot(f_dist_2, label=\"SGF Non CVX FW\")\n",
    "#plt.yscale(\"log\")\n",
    "plt.ylabel(\"|f(x)* - f(x)|\")\n",
    "plt.xlabel(\"iteration\")\n",
    "plt.grid()\n",
    "plt.legend()\n",
    "plt.show()"
   ]
  },
  {
   "cell_type": "markdown",
   "metadata": {},
   "source": [
    "<li> Attempt on Adversarial attack using MNIST dataset to train LeNet-5, uses PyTorch library. The model is trained on separate script."
   ]
  },
  {
   "cell_type": "code",
   "execution_count": 60,
   "metadata": {},
   "outputs": [],
   "source": [
    "from model import Model\n",
    "import torch\n",
    "from torchvision.datasets import mnist\n",
    "from torch.nn import CrossEntropyLoss\n",
    "from torch.optim import SGD\n",
    "from torch.utils.data import DataLoader\n",
    "from torchvision.transforms import ToTensor"
   ]
  },
  {
   "cell_type": "code",
   "execution_count": 82,
   "metadata": {},
   "outputs": [
    {
     "name": "stdout",
     "output_type": "stream",
     "text": [
      "Model(\n",
      "  (conv1): Conv2d(1, 6, kernel_size=(5, 5), stride=(1, 1))\n",
      "  (relu1): ReLU()\n",
      "  (pool1): MaxPool2d(kernel_size=2, stride=2, padding=0, dilation=1, ceil_mode=False)\n",
      "  (conv2): Conv2d(6, 16, kernel_size=(5, 5), stride=(1, 1))\n",
      "  (relu2): ReLU()\n",
      "  (pool2): MaxPool2d(kernel_size=2, stride=2, padding=0, dilation=1, ceil_mode=False)\n",
      "  (fc1): Linear(in_features=256, out_features=120, bias=True)\n",
      "  (relu3): ReLU()\n",
      "  (fc2): Linear(in_features=120, out_features=84, bias=True)\n",
      "  (relu4): ReLU()\n",
      "  (fc3): Linear(in_features=84, out_features=10, bias=True)\n",
      "  (relu5): ReLU()\n",
      ")\n",
      "batch shape = torch.Size([256, 1, 28, 28])\n",
      "batch accuracy =  [0.8984375]\n",
      "image matrix shape =  (28, 28)\n",
      "f(x) of Standard Frank Wolfe = 8\n",
      "||x* - x_out|| = 392.06506\n",
      "f(x) of SGF Convex FW = 8\n",
      "||x* - x_out|| = 370.12980714918484\n",
      "f(x) of SGF Non-Cvx FW = 1\n",
      "||x* - x_out|| = 371.7462319590057\n"
     ]
    }
   ],
   "source": [
    "batch_size = 256\n",
    "train_dataset = mnist.MNIST(root='./train', train=True, transform=ToTensor())\n",
    "test_dataset = mnist.MNIST(root='./test', train=False, transform=ToTensor())\n",
    "train_loader = DataLoader(train_dataset, batch_size=batch_size)\n",
    "test_loader = DataLoader(test_dataset, batch_size=batch_size)\n",
    "model = Model()\n",
    "model = torch.load('models/mnist_0.89.pkl')\n",
    "print(model.eval()) # LeNet-5 model\n",
    "correct_idxes = []\n",
    "for idx, (test_x, test_label) in enumerate(test_loader): # check which indexes get correctly classified\n",
    "    predict_y = model(test_x.float()).detach()\n",
    "    predict_ys = np.argmax(predict_y, axis=-1)\n",
    "    label_np = test_label.numpy()\n",
    "    correct = predict_ys == test_label\n",
    "    correct_idxes.append(correct)\n",
    "print(\"batch shape =\", list(test_loader)[0][0].shape)\n",
    "print(\"batch accuracy = \",np.sum(correct_idxes[0].numpy(), axis=-1)/correct_idxes[0].shape)\n",
    "sample_idx = 0\n",
    "x_arr = list(test_loader)[0][0][0][sample_idx].cpu().detach().numpy() # 0-th sample taken\n",
    "print(\"image matrix shape = \",x_arr.shape)\n",
    "x_arr = x_arr.flatten() # flatten into 1D array\n",
    "f = lambda x, model: np.argmax(model(torch.tensor(x.reshape((1,1,int(np.sqrt(x.shape[0])),int(np.sqrt(x.shape[0])))).astype(np.float32))).detach().numpy()) # objective function, taking one image as the input function\n",
    "#print(\"image label = \",f(x_arr, model))\n",
    "#print(\"image label = \",np.argmax(f(x_arr, model).detach().numpy())) # blackbox objective function\n",
    "\n",
    "constraint = lambda x, x_dash, epsilon: np.linalg.norm(x-x_dash, np.inf) <= epsilon # actual constraint, ||x-x'|| <= epsilon\n",
    "dim = 28\n",
    "x = np.random.uniform(0,1, dim**2).astype(np.float32) # generate random 28x28 data\n",
    "length = dim**2 # unrolled dimension, 28x28 image\n",
    "A_ub = np.ones((1,length))\n",
    "epsilon = 0.5*length\n",
    "LPO_var = {\"A\":A_ub, \"b\":epsilon, \"bounds\":np.array([[None, None]]*length)}\n",
    "m=6\n",
    "x_out, x_array_0 = frank_wolfe(f, x, LPO_var, 0.1, 100, True, model)\n",
    "print(\"f(x) of Standard Frank Wolfe =\", f(x_out, model))\n",
    "print(\"||x* - x_out|| =\", np.linalg.norm(x_arr-x_out))\n",
    "x_out, x_array_1 = SGF_frank_wolfe_cvx(f, x, LPO_var, 100, m, \"IRDSA\", True, model)\n",
    "print(\"f(x) of SGF Convex FW =\", f(x_out, model))\n",
    "print(\"||x* - x_out|| =\", np.linalg.norm(x_arr-x_out))\n",
    "x_out, x_array_2 = SGF_frank_wolfe_noncvx(f, x, LPO_var, 100, m, True, model)\n",
    "print(\"f(x) of SGF Non-Cvx FW =\", f(x_out, model))\n",
    "print(\"||x* - x_out|| =\", np.linalg.norm(x_arr-x_out))"
   ]
  },
  {
   "cell_type": "code",
   "execution_count": 83,
   "metadata": {},
   "outputs": [
    {
     "data": {
      "image/png": "[encoded data removed]",
      "text/plain": [
       "<Figure size 720x720 with 1 Axes>"
      ]
     },
     "metadata": {
      "needs_background": "light"
     },
     "output_type": "display_data"
    }
   ],
   "source": [
    "# visualization of ||x* - x|| per iteration\n",
    "plt.rcParams[\"figure.figsize\"] = (10,10)\n",
    "length = len(x_array_0)\n",
    "# distance between points:\n",
    "dist_0 = np.array([np.linalg.norm(x_arr-x_array_0[i]) for i in range(length)])\n",
    "dist_1 = np.array([np.linalg.norm(x_arr-x_array_1[i]) for i in range(length)])\n",
    "dist_2 = np.array([np.linalg.norm(x_arr-x_array_2[i]) for i in range(length)])\n",
    "plt.figure(0)\n",
    "plt.plot(dist_0, label=\"Standard FW\")\n",
    "plt.plot(dist_1, label=\"SGF CVX FW\")\n",
    "plt.plot(dist_2, label=\"SGF Non CVX FW\")\n",
    "plt.ylabel(\"||x* - x||\")\n",
    "plt.xlabel(\"iteration\")\n",
    "plt.grid()\n",
    "plt.legend()\n",
    "plt.show()\n"
   ]
  },
  {
   "cell_type": "markdown",
   "metadata": {},
   "source": [
    "## References\n",
    "[1] A. K. Sahu, M. Zaheer, and S. Kar.  \"Towards gradient free and projection free stochastic optimization\", 2019. <br>\n",
    "[2] A. K. Sahu and S. Kar, \"Decentralized Zeroth-Order Constrained Stochastic Optimization Algorithms: Frank–Wolfe and Variants With Applications to Black-Box Adversarial Attacks,\" in Proceedings of the IEEE, vol. 108, no. 11, pp. 1890-1905, Nov. 2020, doi: 10.1109/JPROC.2020.3012609.\n"
   ]
  }
 ],
 "metadata": {
  "kernelspec": {
   "display_name": "Python 3",
   "language": "python",
   "name": "python3"
  },
  "language_info": {
   "codemirror_mode": {
    "name": "ipython",
    "version": 3
   },
   "file_extension": ".py",
   "mimetype": "text/x-python",
   "name": "python",
   "nbconvert_exporter": "python",
   "pygments_lexer": "ipython3",
   "version": "3.7.3"
  }
 },
 "nbformat": 4,
 "nbformat_minor": 2
}
